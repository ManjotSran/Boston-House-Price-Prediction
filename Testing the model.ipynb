{
 "cells": [
  {
   "cell_type": "code",
   "execution_count": 19,
   "id": "1dc08428",
   "metadata": {},
   "outputs": [
    {
     "name": "stdout",
     "output_type": "stream",
     "text": [
      "Mean Squared Error:  11.902132586880027\n"
     ]
    }
   ],
   "source": [
    "import numpy as np\n",
    "import pandas as pd\n",
    "from sklearn.model_selection import train_test_split\n",
    "from sklearn.preprocessing import StandardScaler\n",
    "from sklearn.metrics import mean_squared_error\n",
    "import pickle\n",
    "\n",
    "# Load dataset\n",
    "filename = 'housing.csv'\n",
    "names = ['CRIM', 'ZN', 'INDUS', 'CHAS', 'NOX', 'RM', 'AGE', 'DIS', 'RAD', 'TAX', 'PTRATIO', 'B', 'LSTAT', 'MEDV']\n",
    "dataset = pd.read_csv(filename, delim_whitespace=True, names=names)\n",
    "\n",
    "# Split-out validation dataset\n",
    "array = dataset.values\n",
    "X = array[:, 0:13]\n",
    "Y = array[:, 13]\n",
    "validation_size = 0.20\n",
    "seed = 7\n",
    "X_train, X_validation, Y_train, Y_validation = train_test_split(X, Y, test_size=validation_size, random_state=seed)\n",
    "\n",
    "# Load the saved model from file\n",
    "with open('gradient_boosting_model.pkl', 'rb') as f:\n",
    "    model = pickle.load(f)\n",
    "\n",
    "# Standardize the dataset\n",
    "scaler = StandardScaler().fit(X_train)\n",
    "rescaledX = scaler.transform(X_train)\n",
    "rescaledValidationX = scaler.transform(X_validation)\n",
    "\n",
    "# Make predictions on the validation dataset\n",
    "predictions = model.predict(rescaledValidationX)\n",
    "\n",
    "# Evaluate the performance of the model using mean squared error (MSE)\n",
    "mse = mean_squared_error(Y_validation, predictions)\n",
    "print(\"Mean Squared Error: \", mse)\n"
   ]
  },
  {
   "cell_type": "code",
   "execution_count": 22,
   "id": "6ae49d80",
   "metadata": {},
   "outputs": [
    {
     "name": "stdout",
     "output_type": "stream",
     "text": [
      "     Actual MEDV  Predicted MEDV\n",
      "0           21.7       21.604000\n",
      "1           18.5       18.907915\n",
      "2           22.2       20.524835\n",
      "3           20.4       20.770975\n",
      "4            8.8        4.612203\n",
      "..           ...             ...\n",
      "97          16.3       16.621798\n",
      "98          17.2       15.087232\n",
      "99          28.0       27.808398\n",
      "100         15.2       16.295906\n",
      "101         16.6       17.080479\n",
      "\n",
      "[102 rows x 2 columns]\n",
      "Mean Squared Error: 11.902132586880027\n"
     ]
    }
   ],
   "source": [
    "import pandas as pd\n",
    "import pickle\n",
    "\n",
    "# Load the saved model from file\n",
    "with open('gradient_boosting_model.pkl', 'rb') as f:\n",
    "    model = pickle.load(f)\n",
    "\n",
    "# Transform the validation dataset\n",
    "rescaledValidationX = scaler.transform(X_validation)\n",
    "predictions = model.predict(rescaledValidationX)\n",
    "\n",
    "# Compare actual MEDV and predicted MEDV\n",
    "comparison_df = pd.DataFrame({'Actual MEDV': Y_validation, 'Predicted MEDV': predictions})\n",
    "print(comparison_df)\n",
    "\n",
    "# Calculate mean squared error\n",
    "mse = mean_squared_error(Y_validation, predictions)\n",
    "print(\"Mean Squared Error:\", mse)\n"
   ]
  },
  {
   "cell_type": "code",
   "execution_count": null,
   "id": "1deafefb",
   "metadata": {},
   "outputs": [],
   "source": []
  }
 ],
 "metadata": {
  "kernelspec": {
   "display_name": "Python 3 (ipykernel)",
   "language": "python",
   "name": "python3"
  },
  "language_info": {
   "codemirror_mode": {
    "name": "ipython",
    "version": 3
   },
   "file_extension": ".py",
   "mimetype": "text/x-python",
   "name": "python",
   "nbconvert_exporter": "python",
   "pygments_lexer": "ipython3",
   "version": "3.9.7"
  }
 },
 "nbformat": 4,
 "nbformat_minor": 5
}
